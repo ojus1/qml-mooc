{
  "cells": [
    {
      "cell_type": "markdown",
      "metadata": {
        "id": "PTJETJNr6fQN"
      },
      "source": [
        "Before you begin, execute this cell to import numpy and packages from the D-Wave Ocean suite, and all necessary functions for the gate-model framework you are going to use, whether that is the Forest SDK or Qiskit. In the case of Forest SDK, it also starts the qvm and quilc servers."
      ]
    },
    {
      "cell_type": "code",
      "source": [
        "%%capture\n",
        "!pip install cirq dwave-networkx dimod minorminer qiskit dwave-system pyquil qiskit.aqua nevergrad"
      ],
      "metadata": {
        "id": "T8ozjy6b6sQs"
      },
      "execution_count": 1,
      "outputs": []
    },
    {
      "cell_type": "code",
      "execution_count": 2,
      "metadata": {
        "collapsed": true,
        "nbgrader": {
          "grade": false,
          "locked": true,
          "solution": false
        },
        "editable": false,
        "deletable": false,
        "colab": {
          "base_uri": "https://localhost:8080/"
        },
        "id": "Isf-baTT6fQQ",
        "outputId": "4c954acc-52dc-449d-ac8d-dcd3e2765893"
      },
      "outputs": [
        {
          "output_type": "stream",
          "name": "stdout",
          "text": [
            "Available frameworks:\n",
            "Qiskit\n",
            "D-Wave Ocean\n"
          ]
        }
      ],
      "source": [
        "%run -i \"assignment_helper.py\"\n",
        "%matplotlib inline"
      ]
    },
    {
      "cell_type": "markdown",
      "metadata": {
        "id": "UWkni1WA6fQR"
      },
      "source": [
        "# Classical probability distributions\n",
        "\n",
        "**Exercise 1** (1 point). Recall that in classical con flipping, get heads with probability $P(X=0) = p_0$ and tails with $P(X=1) = p_1$ for each toss of the coin, where $p_i\\geq 0$ for all $i$, and the probabilities sum to one: $\\sum_i p_i = 1$. Create a sample with a 1000 data points using numpy, with a probability of getting tails being 0.3. This is the parameter that the `binomial` function takes. Store the outcome in an array called `x_data`."
      ]
    },
    {
      "cell_type": "code",
      "execution_count": 3,
      "metadata": {
        "ExecuteTime": {
          "end_time": "2018-11-19T19:47:57.736024Z",
          "start_time": "2018-11-19T19:47:57.668891Z"
        },
        "collapsed": true,
        "id": "taBb61TJ6fQS"
      },
      "outputs": [],
      "source": [
        "n_samples = 1000\n",
        "###\n",
        "p_1 = 0.3\n",
        "x_data = np.random.choice([0, 1], replace=True, p=np.array([1-p_1, p_1]), size=(n_samples,))\n",
        "###\n"
      ]
    },
    {
      "cell_type": "code",
      "execution_count": 4,
      "metadata": {
        "collapsed": true,
        "nbgrader": {
          "grade": true,
          "grade_id": "exercise1",
          "locked": true,
          "points": "1",
          "solution": false
        },
        "editable": false,
        "deletable": false,
        "id": "05myUgYr6fQT"
      },
      "outputs": [],
      "source": [
        "assert isinstance(x_data, np.ndarray)\n",
        "assert abs(p_1-x_data.sum()/n_samples) < 0.05"
      ]
    },
    {
      "cell_type": "markdown",
      "metadata": {
        "id": "XnPcPXn76fQT"
      },
      "source": [
        "**Exercise 2** (1 point). As you recall, we may also write the probability distribution as a stochastic vector $\\vec{p} = \\begin{bmatrix} p_0 \\\\ p_1 \\end{bmatrix}$. The normalization constraint on the probability distribution says that the norm of the vector is restricted to one in the $l_1$ norm. In other words, $||\\vec{p}||_1 = \\sum_i |p_i| = 1$. This would be the unit circle in the $l_1$ norm, but since $p_i\\geq 0$, we are restricted to a quarter of the unit circle, just as we plotted above. Write a function that checks whether a given two-dimensional vector is a stochastic vector. That is, it should return `True` if all elements are positive and the 1-norm is approximately one, and it should return `False` otherwise. The input of the function is a numpy array."
      ]
    },
    {
      "cell_type": "code",
      "execution_count": 5,
      "metadata": {
        "ExecuteTime": {
          "end_time": "2018-11-19T19:47:58.267761Z",
          "start_time": "2018-11-19T19:47:58.257885Z"
        },
        "collapsed": true,
        "id": "iq9eogLh6fQU"
      },
      "outputs": [],
      "source": [
        "def is_stochastic_vector(p: np.array):\n",
        "    ###\n",
        "    if np.allclose(np.linalg.norm(p, ord=1), 1.0) and (p >= 0.0).all():\n",
        "        return True\n",
        "    return False\n",
        "    ###\n"
      ]
    },
    {
      "cell_type": "code",
      "execution_count": 6,
      "metadata": {
        "collapsed": true,
        "nbgrader": {
          "grade": true,
          "grade_id": "exercise2",
          "locked": true,
          "points": "1",
          "solution": false
        },
        "editable": false,
        "deletable": false,
        "id": "4VxhUso06fQV"
      },
      "outputs": [],
      "source": [
        "assert not is_stochastic_vector(np.array([0.2, 0.3]))\n",
        "assert not is_stochastic_vector(np.array([-0.2, 0.7]))\n",
        "assert is_stochastic_vector(np.array([0.2, 0.8]))"
      ]
    },
    {
      "cell_type": "markdown",
      "metadata": {
        "id": "L4d0RFdc6fQW"
      },
      "source": [
        "**Exercise 3** (1 point). The probability of heads is just the first element in the $\\vec{p}$ and we can use a projection to extract it. For the first element of the stochastic vector, the projection is described by the matrix $\\begin{bmatrix} 1 & 0\\\\0 & 0\\end{bmatrix}$. Write a function that performs this projection on a two-element vector described by a numpy array. Your output after the projection is also a two-element vector."
      ]
    },
    {
      "cell_type": "code",
      "execution_count": 7,
      "metadata": {
        "ExecuteTime": {
          "end_time": "2018-11-19T19:47:58.296678Z",
          "start_time": "2018-11-19T19:47:58.272116Z"
        },
        "collapsed": true,
        "id": "pmIc-DoU6fQX"
      },
      "outputs": [],
      "source": [
        "def project_to_first_basis_vector(p: np.array):\n",
        "    ###\n",
        "    proj_mat = np.array([[1, 0], [0, 0]])\n",
        "    return proj_mat @ p\n",
        "    ###\n"
      ]
    },
    {
      "cell_type": "code",
      "execution_count": 8,
      "metadata": {
        "collapsed": true,
        "nbgrader": {
          "grade": true,
          "grade_id": "exercise3",
          "locked": true,
          "points": "1",
          "solution": false
        },
        "editable": false,
        "deletable": false,
        "id": "CM09HU0Z6fQY"
      },
      "outputs": [],
      "source": [
        "assert np.alltrue(project_to_first_basis_vector(np.array([0.2, 0.3])) == np.array([0.2, 0.]))\n",
        "assert np.alltrue(project_to_first_basis_vector(np.array([1., 0.])) == np.array([1., 0.]))"
      ]
    },
    {
      "cell_type": "markdown",
      "metadata": {
        "id": "sPTS8avE6fQZ"
      },
      "source": [
        "**Exercise 4** (1 point). The projection operators introduce some linear algebra to working with probability distributions. We can also use linear algebra to transform one probability distribution to another. A left *stochastic matrix* will map stochastic vectors to stochastic vectors when multiplied from the left: its columns add up to one. Write a function that takes a matrix and a vector as input arguments (both are numpy arrays), checks whether the vector is a stochastic vector and whether the matrix is left stochastic. If they are, return the matrix applied to the vector, otherwise raise a `ValueError`. You can call the function `is_stochastic_vector` that you defined above."
      ]
    },
    {
      "cell_type": "code",
      "execution_count": 9,
      "metadata": {
        "collapsed": true,
        "id": "IVHjh26a6fQZ"
      },
      "outputs": [],
      "source": [
        "def apply_stochastic_matrix(p: np.array, M: np.array):\n",
        "    \"\"\"Apply the matrix M to the vector p, but only if\n",
        "    p is a stochastic vector and M is a left stochastic\n",
        "    matrix. Otherwise raise a ValueError.\n",
        "    \"\"\"\n",
        "    ###\n",
        "    if is_stochastic_vector(p) and all([is_stochastic_vector(M[:, j]) for j in range(M.shape[1])]):\n",
        "        return M @ p\n",
        "    else:\n",
        "        raise ValueError(\"Not stochastic.\")\n",
        "    ###\n"
      ]
    },
    {
      "cell_type": "code",
      "execution_count": 10,
      "metadata": {
        "collapsed": true,
        "nbgrader": {
          "grade": true,
          "grade_id": "exercise4",
          "locked": true,
          "points": "1",
          "solution": false
        },
        "editable": false,
        "deletable": false,
        "id": "qZ6lkXVB6fQZ"
      },
      "outputs": [],
      "source": [
        "p = np.array([[.5], [.5]])\n",
        "M = np.array([[0.7, 0.6], [0.3, 0.4]])\n",
        "assert abs(np.linalg.norm(apply_stochastic_matrix(p, M), ord=1)-1) < 0.01\n",
        "M = np.array([[0.7, 0.6], [0.3, 0.5]])\n",
        "try:\n",
        "    apply_stochastic_matrix(p, M)\n",
        "except ValueError:\n",
        "    pass\n",
        "else:\n",
        "    raise AssertionError(\"did not raise\")"
      ]
    },
    {
      "cell_type": "markdown",
      "metadata": {
        "id": "1CH488Y76fQa"
      },
      "source": [
        "**Exercise 5** (1 point). Create a left stochastic matrix in a variable called `M` that transforms the uniform distribution $\\vec{p}= \\begin{bmatrix} 0.5 \\\\ 0.5 \\end{bmatrix}$ to $\\begin{bmatrix} 0.6 \\\\ 0.4 \\end{bmatrix}$. `M` should be a two-dimensional numpy array."
      ]
    },
    {
      "cell_type": "code",
      "execution_count": 11,
      "metadata": {
        "collapsed": true,
        "colab": {
          "base_uri": "https://localhost:8080/"
        },
        "id": "srZ7BKbc6fQa",
        "outputId": "172158da-55f0-45b8-ab99-cbc9d2c759e5"
      },
      "outputs": [
        {
          "output_type": "stream",
          "name": "stderr",
          "text": [
            "/usr/local/lib/python3.7/dist-packages/nevergrad/parametrization/_datalayers.py:110: NevergradRuntimeWarning: Bounds are 1.0 sigma away from each other at the closest, you should aim for at least 3 for better quality.\n",
            "  errors.NevergradRuntimeWarning,\n"
          ]
        },
        {
          "output_type": "stream",
          "name": "stdout",
          "text": [
            "[[0.51059788 0.68939718]\n",
            " [0.48940212 0.31060282]] [[0.59999753]\n",
            " [0.40000247]]\n"
          ]
        }
      ],
      "source": [
        "###\n",
        "# M * p = p'\n",
        "import nevergrad as ng\n",
        "instrum = ng.p.Instrumentation(\n",
        "    ng.p.Array(shape=(2, 2)).set_bounds(lower=0, upper=1)\n",
        ")\n",
        "\n",
        "# def norm_mat(mat):\n",
        "#     return mat / np.linalg.norm(mat, ord=2, axis=1)\n",
        "\n",
        "\n",
        "def softmax(mat):\n",
        "    xp = np.exp(mat)\n",
        "    return xp / xp.sum(axis=0).reshape(1, 2)\n",
        "\n",
        "def loss(mat):\n",
        "    mat = softmax(mat)\n",
        "    # print(mat)\n",
        "    return np.power(mat @ np.array([[0.5], [0.5]]) - np.array([[0.6], [0.4]]), 2).sum()\n",
        "\n",
        "def is_left_stochastic_matrix(mat):\n",
        "    return all([is_stochastic_vector(mat[:, j]) for j in range(mat.shape[1])])\n",
        "\n",
        "optimizer = ng.optimizers.TwoPointsDE(parametrization=instrum, budget=10000)\n",
        "\n",
        "recommendation = optimizer.minimize(loss)\n",
        "M = softmax(recommendation.value[0][0])\n",
        "print(M, M @ np.array([[0.5], [0.5]]))\n",
        "###\n"
      ]
    },
    {
      "cell_type": "code",
      "execution_count": 12,
      "metadata": {
        "ExecuteTime": {
          "end_time": "2018-11-19T19:47:58.829415Z",
          "start_time": "2018-11-19T19:47:58.337314Z"
        },
        "collapsed": true,
        "nbgrader": {
          "grade": true,
          "grade_id": "exercise5",
          "locked": true,
          "points": "1",
          "solution": false
        },
        "editable": false,
        "deletable": false,
        "id": "XR8Bqz9p6fQa"
      },
      "outputs": [],
      "source": [
        "assert np.allclose(M.dot(np.array([0.5, 0.5])), np.array([0.6, 0.4]))"
      ]
    },
    {
      "cell_type": "markdown",
      "metadata": {
        "id": "JW0Z5G3A6fQc"
      },
      "source": [
        "**Exercise 6** (1 point). Calculate the entropy of this distribution $\\begin{bmatrix} 0.6 \\\\ 0.4 \\end{bmatrix}$ in a variable called `S`."
      ]
    },
    {
      "cell_type": "code",
      "execution_count": 13,
      "metadata": {
        "collapsed": true,
        "colab": {
          "base_uri": "https://localhost:8080/"
        },
        "id": "GKJteuoR6fQc",
        "outputId": "e4edb0d9-bf75-49a2-b5bd-252a0752d611"
      },
      "outputs": [
        {
          "output_type": "stream",
          "name": "stdout",
          "text": [
            "0.9709505944546686\n"
          ]
        }
      ],
      "source": [
        "###\n",
        "p_transformed = np.array([[0.6], [0.4]])\n",
        "S = -(p_transformed * np.log2(p_transformed)).sum()\n",
        "print(S)\n",
        "###\n"
      ]
    },
    {
      "cell_type": "code",
      "execution_count": 14,
      "metadata": {
        "collapsed": true,
        "nbgrader": {
          "grade": true,
          "grade_id": "exercise6",
          "locked": true,
          "points": "1",
          "solution": false
        },
        "editable": false,
        "deletable": false,
        "id": "npPBkaZ_6fQd"
      },
      "outputs": [],
      "source": [
        "###\n",
        "### AUTOGRADER TEST - DO NOT REMOVE\n",
        "###\n"
      ]
    },
    {
      "cell_type": "markdown",
      "metadata": {
        "id": "5NGeObkY6fQd"
      },
      "source": [
        "# Quantum states\n",
        "\n",
        "**Exercise 7** (1 point). A quantum state is a probability distribution. A qubit state is a distribution over two values, similar to the coin flipping in the classical state. A major difference is that the entries are complex numbers and the normalization is in the $l_2$ norm. Create a function similar to `is_stochastic_vector` that checks whether a vector is a valid quantum state. The input is a numpy array and the output should be boolean."
      ]
    },
    {
      "cell_type": "code",
      "execution_count": 15,
      "metadata": {
        "collapsed": true,
        "id": "hDQ3JToc6fQd"
      },
      "outputs": [],
      "source": [
        "def is_quantum_state(psi: np.array):\n",
        "    ###\n",
        "    if np.allclose(np.linalg.norm(psi, ord=2), 1.0):\n",
        "        return True\n",
        "    return False\n",
        "    ###\n"
      ]
    },
    {
      "cell_type": "code",
      "execution_count": 16,
      "metadata": {
        "collapsed": true,
        "nbgrader": {
          "grade": true,
          "grade_id": "exercise7",
          "locked": true,
          "points": "1",
          "solution": false
        },
        "editable": false,
        "deletable": false,
        "id": "itgQ36Gn6fQd"
      },
      "outputs": [],
      "source": [
        "assert is_quantum_state(np.array([1/np.sqrt(2), 1/np.sqrt(2)]))\n",
        "assert is_quantum_state(np.array([-1/np.sqrt(2), 1/np.sqrt(2)]))\n",
        "assert is_quantum_state(np.array([-1/3, 2*np.sqrt(2)/3]))\n",
        "assert is_quantum_state(np.array([-1j/3, 2*np.sqrt(2)/3]))\n",
        "assert not is_quantum_state(np.array([0.2, 0.8]))"
      ]
    },
    {
      "cell_type": "markdown",
      "metadata": {
        "id": "tZ5Zy85-6fQd"
      },
      "source": [
        "**Exercise 8** (1 point). While working with numpy arrays is convenient, it is better to use a framework designed for quantum computing, since it often allows us to execute a circuit directly on a quantum computer. In your preferred framework, implement a circuit of a single qubit with no operation on it. You should create it in an object called `circuit`. Do not add a measurement. The evaluation will automatically branch according to which framework you chose."
      ]
    },
    {
      "cell_type": "code",
      "execution_count": 17,
      "metadata": {
        "ExecuteTime": {
          "end_time": "2018-11-19T19:47:59.562010Z",
          "start_time": "2018-11-19T19:47:58.831645Z"
        },
        "collapsed": true,
        "id": "2bcX3-6S6fQd"
      },
      "outputs": [],
      "source": [
        "###\n",
        "from qiskit.circuit.quantumcircuit import QuantumCircuit\n",
        "\n",
        "circuit = QuantumCircuit(1)\n",
        "###\n"
      ]
    },
    {
      "cell_type": "code",
      "execution_count": 18,
      "metadata": {
        "collapsed": true,
        "nbgrader": {
          "grade": true,
          "grade_id": "exercise8",
          "locked": true,
          "points": "1",
          "solution": false
        },
        "editable": false,
        "deletable": false,
        "id": "VOg58jnk6fQe"
      },
      "outputs": [],
      "source": [
        "amplitudes = get_amplitudes(circuit)\n",
        "assert abs(amplitudes[0]-1.0) < 0.01"
      ]
    },
    {
      "cell_type": "markdown",
      "metadata": {
        "id": "15gy6Mot6fQe"
      },
      "source": [
        "**Exercise 9** (1 point). In the execution branching above, you see that we use the wavefunction simulator. This allows us to use the probability amplitudes as usual numpy arrays, as you can see above. If we ran the circuit on an actual quantum device, we would not be able to inspect the wavefunction, but we would have to rely on the statistics of measurements to understand what is happening in the circuit.\n",
        "\n",
        "Create a circuit in your preferred framework that creates an equal superposition in a qubit using a Hadamard gate. Again, the name of the object should be `circuit`. The evaluation will be based on measurement statistics. In this case, you should explicitly specify the measurement on the qubit"
      ]
    },
    {
      "cell_type": "code",
      "execution_count": 19,
      "metadata": {
        "ExecuteTime": {
          "end_time": "2018-11-19T19:47:59.567831Z",
          "start_time": "2018-11-19T19:47:59.563751Z"
        },
        "collapsed": true,
        "colab": {
          "base_uri": "https://localhost:8080/"
        },
        "id": "S8XliZU16fQe",
        "outputId": "39fd3f4b-e0b1-4917-bfff-8ae37f504189"
      },
      "outputs": [
        {
          "output_type": "execute_result",
          "data": {
            "text/plain": [
              "<qiskit.circuit.instructionset.InstructionSet at 0x7fa50e5ea960>"
            ]
          },
          "metadata": {},
          "execution_count": 19
        }
      ],
      "source": [
        "###\n",
        "from qiskit import(\n",
        "  QuantumCircuit,\n",
        "  execute,\n",
        "  Aer)\n",
        "\n",
        "# Use Aer's qasm_simulator\n",
        "simulator = Aer.get_backend('qasm_simulator')\n",
        "\n",
        "\n",
        "circuit = QuantumCircuit(1, 1)\n",
        "circuit.h(0)\n",
        "circuit.measure([0], [0])\n",
        "###\n"
      ]
    },
    {
      "cell_type": "code",
      "execution_count": 20,
      "metadata": {
        "collapsed": true,
        "nbgrader": {
          "grade": true,
          "grade_id": "exercise9",
          "locked": true,
          "points": "1",
          "solution": false
        },
        "editable": false,
        "deletable": false,
        "id": "fyAAqjCh6fQe"
      },
      "outputs": [],
      "source": [
        "counts = get_counts(circuit)\n",
        "assert abs(counts['0']/100-.5) < 0.2"
      ]
    },
    {
      "cell_type": "markdown",
      "metadata": {
        "id": "GfYZ4PK36fQf"
      },
      "source": [
        "**Exercise 10** (1 point). If you plotted the state before measurement on the Bloch sphere, it would have been on the equator halfway between the $|0\\rangle$ and $|1\\rangle$ states, and the tip of the X axis. If you apply the Hadamard on the $|1\\rangle$, it would have been the point on the opposite and of the X axis, since the resulting superposition would have had a -1 amplitude for $|1\\rangle$. The measurement statistics, however, would be identical. The negative sign plays a role in interference: for instance, applying a Hadamard again, would take you back to $|1\\rangle$. Create the superposition after applying the Hadamard gate on $|1\\rangle$. We will verify whether it picked up the phase. Do not include a measurement, since we will inspect the wavefunction."
      ]
    },
    {
      "cell_type": "code",
      "execution_count": 26,
      "metadata": {
        "ExecuteTime": {
          "end_time": "2018-11-19T19:48:00.622667Z",
          "start_time": "2018-11-19T19:48:00.379562Z"
        },
        "collapsed": true,
        "colab": {
          "base_uri": "https://localhost:8080/"
        },
        "id": "7DNaHEG96fQf",
        "outputId": "59764617-23ee-42c2-9384-f9b69386b76c"
      },
      "outputs": [
        {
          "output_type": "execute_result",
          "data": {
            "text/plain": [
              "<qiskit.circuit.instructionset.InstructionSet at 0x7fa50e69feb0>"
            ]
          },
          "metadata": {},
          "execution_count": 26
        }
      ],
      "source": [
        "###\n",
        "circuit = QuantumCircuit(1, 1)\n",
        "circuit.initialize([0, 1], 0)\n",
        "circuit.h(0)\n",
        "###\n"
      ]
    },
    {
      "cell_type": "code",
      "execution_count": 27,
      "metadata": {
        "collapsed": true,
        "nbgrader": {
          "grade": true,
          "grade_id": "exercise10",
          "locked": true,
          "points": "1",
          "solution": false
        },
        "editable": false,
        "deletable": false,
        "id": "Ul7n62_A6fQf"
      },
      "outputs": [],
      "source": [
        "amplitudes = get_amplitudes(circuit)\n",
        "assert abs(amplitudes[1]+np.sqrt(2)/2) < 0.01"
      ]
    },
    {
      "cell_type": "markdown",
      "metadata": {
        "id": "iSKpfBmB6fQg"
      },
      "source": [
        "# More qubits and entanglement\n",
        "\n",
        "**Exercise 11** (1 point). To get a sense of multiqubit states, it is important to be confident with the tensor product operation. Create a function that returns the four basis vectors, $|00\\rangle$, $|01\\rangle$, $|10\\rangle$, and $|11\\rangle$, of the tensor product space $\\mathbb{C}^2\\otimes\\mathbb{C}^2$. The order in which they appear does not matter. The return value should be a list of four numpy arrays."
      ]
    },
    {
      "cell_type": "code",
      "execution_count": 28,
      "metadata": {
        "ExecuteTime": {
          "end_time": "2018-11-19T19:48:00.928395Z",
          "start_time": "2018-11-19T19:48:00.913259Z"
        },
        "collapsed": true,
        "id": "PaAVyJGt6fQg"
      },
      "outputs": [],
      "source": [
        "def create_canonical_basis():\n",
        "    ###\n",
        "    return [\n",
        "            np.array([[1], [0], [0], [0]]),\n",
        "            np.array([[0], [1], [0], [0]]),\n",
        "            np.array([[0], [0], [1], [0]]),\n",
        "            np.array([[0], [0], [0], [1]]),\n",
        "    ]\n",
        "    ###\n"
      ]
    },
    {
      "cell_type": "code",
      "execution_count": 30,
      "metadata": {
        "collapsed": true,
        "nbgrader": {
          "grade": true,
          "grade_id": "exercise11",
          "locked": true,
          "points": "1",
          "solution": false
        },
        "editable": false,
        "deletable": false,
        "id": "ZR1JOJ2u6fQg"
      },
      "outputs": [],
      "source": [
        "basis = create_canonical_basis()\n",
        "assert len(basis) == 4\n",
        "if basis[0].shape != (4, ):\n",
        "    basis = [basis_vector.reshape((4, )) for basis_vector in basis]\n",
        "###\n",
        "### AUTOGRADER TEST - DO NOT REMOVE\n",
        "###\n"
      ]
    },
    {
      "cell_type": "markdown",
      "metadata": {
        "id": "FDQrJr0p6fQh"
      },
      "source": [
        "**Exercise 12** (1 point). A generic product state has the form  $\\begin{bmatrix}a_0b_0\\\\ a_0b_1\\\\ a_1b_0\\\\ a_1b_1\\end{bmatrix}=a_0b_0|00\\rangle + a_0b_1|01\\rangle + a_1b_0|10\\rangle + a_1b_1|11\\rangle$ on $\\mathbb{C}^2\\otimes\\mathbb{C}^2$, but not all. We can use the basis vectors to form vectors in the space that do not have a product structure. These are entangled states that show strong correlations. Entanglement is an important resource in quantum computing and being able to create a circuit that generates an entangled state is critical. Implement a circuit in your preferred framework to create the $|\\phi^-\\rangle = \\frac{1}{\\sqrt{2}}(|00\\rangle-|11\\rangle)$ state, that is, almost the same as the $|\\phi^+\\rangle$ state, but with the opposite sign of the probability amplitude of $|11\\rangle$. Do not include a measurement, as we will verify the state with the wavefunction simulator"
      ]
    },
    {
      "cell_type": "code",
      "execution_count": 35,
      "metadata": {
        "ExecuteTime": {
          "end_time": "2018-11-19T19:48:01.146195Z",
          "start_time": "2018-11-19T19:48:00.930859Z"
        },
        "collapsed": true,
        "colab": {
          "base_uri": "https://localhost:8080/"
        },
        "id": "K6reMbf06fQh",
        "outputId": "17995f8d-33d5-4802-c671-e2a69778bfef"
      },
      "outputs": [
        {
          "output_type": "execute_result",
          "data": {
            "text/plain": [
              "<qiskit.circuit.instructionset.InstructionSet at 0x7fa50f68ba00>"
            ]
          },
          "metadata": {},
          "execution_count": 35
        }
      ],
      "source": [
        "###\n",
        "circuit = QuantumCircuit(2, 2)\n",
        "circuit.initialize((1/np.sqrt(2))*(basis[0] - basis[-1]), [0, 1])\n",
        "###\n"
      ]
    },
    {
      "cell_type": "code",
      "execution_count": 36,
      "metadata": {
        "collapsed": true,
        "nbgrader": {
          "grade": true,
          "grade_id": "exercise12",
          "locked": true,
          "points": "1",
          "solution": false
        },
        "editable": false,
        "deletable": false,
        "id": "p5GNcnIW6fQh"
      },
      "outputs": [],
      "source": [
        "amplitudes = get_amplitudes(circuit)\n",
        "assert np.allclose(np.array([np.sqrt(2)/2, 0, 0, -np.sqrt(2)/2]), amplitudes)"
      ]
    }
  ],
  "metadata": {
    "kernelspec": {
      "display_name": "Python 3 [3.6]",
      "language": "python",
      "name": "python3"
    },
    "language_info": {
      "codemirror_mode": {
        "name": "ipython",
        "version": 3
      },
      "file_extension": ".py",
      "mimetype": "text/x-python",
      "name": "python",
      "nbconvert_exporter": "python",
      "pygments_lexer": "ipython3",
      "version": "3.6.4"
    },
    "colab": {
      "name": "01_Classical_and_Quantum_Probability_Distributions.ipynb",
      "provenance": [],
      "collapsed_sections": [
        "UWkni1WA6fQR"
      ]
    }
  },
  "nbformat": 4,
  "nbformat_minor": 0
}
